{
 "cells": [
  {
   "cell_type": "code",
   "execution_count": null,
   "metadata": {},
   "outputs": [],
   "source": [
    "#Importo las librerías necesarias\n",
    "\n",
    "import numpy as np\n",
    "#Semilla para asegurar valores aleatorios\n",
    "np.random.seed(10)\n",
    "\n",
    "import pandas as pd \n",
    "import matplotlib.pyplot as plt\n",
    "from sklearn.model_selection import train_test_split\n",
    "import tensorflow as tf\n",
    "from tensorflow import keras\n",
    "from keras import layers\n",
    "import tensorflow_docs as tfdocs"
   ]
  },
  {
   "cell_type": "code",
   "execution_count": 18,
   "metadata": {},
   "outputs": [
    {
     "data": {
      "text/html": [
       "<div>\n",
       "<style scoped>\n",
       "    .dataframe tbody tr th:only-of-type {\n",
       "        vertical-align: middle;\n",
       "    }\n",
       "\n",
       "    .dataframe tbody tr th {\n",
       "        vertical-align: top;\n",
       "    }\n",
       "\n",
       "    .dataframe thead th {\n",
       "        text-align: right;\n",
       "    }\n",
       "</style>\n",
       "<table border=\"1\" class=\"dataframe\">\n",
       "  <thead>\n",
       "    <tr style=\"text-align: right;\">\n",
       "      <th></th>\n",
       "      <th>Iy</th>\n",
       "      <th>PF</th>\n",
       "      <th>e</th>\n",
       "      <th>dIf</th>\n",
       "      <th>If</th>\n",
       "    </tr>\n",
       "  </thead>\n",
       "  <tbody>\n",
       "    <tr>\n",
       "      <th>0</th>\n",
       "      <td>0.0</td>\n",
       "      <td>0.028571</td>\n",
       "      <td>0.971429</td>\n",
       "      <td>0.472678</td>\n",
       "      <td>0.472678</td>\n",
       "    </tr>\n",
       "    <tr>\n",
       "      <th>1</th>\n",
       "      <td>0.0</td>\n",
       "      <td>0.085714</td>\n",
       "      <td>0.914286</td>\n",
       "      <td>0.457650</td>\n",
       "      <td>0.457650</td>\n",
       "    </tr>\n",
       "    <tr>\n",
       "      <th>2</th>\n",
       "      <td>0.0</td>\n",
       "      <td>0.142857</td>\n",
       "      <td>0.857143</td>\n",
       "      <td>0.441257</td>\n",
       "      <td>0.441257</td>\n",
       "    </tr>\n",
       "    <tr>\n",
       "      <th>3</th>\n",
       "      <td>0.0</td>\n",
       "      <td>0.200000</td>\n",
       "      <td>0.800000</td>\n",
       "      <td>0.411202</td>\n",
       "      <td>0.411202</td>\n",
       "    </tr>\n",
       "    <tr>\n",
       "      <th>4</th>\n",
       "      <td>0.0</td>\n",
       "      <td>0.257143</td>\n",
       "      <td>0.742857</td>\n",
       "      <td>0.382514</td>\n",
       "      <td>0.382514</td>\n",
       "    </tr>\n",
       "  </tbody>\n",
       "</table>\n",
       "</div>"
      ],
      "text/plain": [
       "    Iy        PF         e       dIf        If\n",
       "0  0.0  0.028571  0.971429  0.472678  0.472678\n",
       "1  0.0  0.085714  0.914286  0.457650  0.457650\n",
       "2  0.0  0.142857  0.857143  0.441257  0.441257\n",
       "3  0.0  0.200000  0.800000  0.411202  0.411202\n",
       "4  0.0  0.257143  0.742857  0.382514  0.382514"
      ]
     },
     "execution_count": 18,
     "metadata": {},
     "output_type": "execute_result"
    }
   ],
   "source": [
    "# Cargo y proceso los datos\n",
    "data = pd.read_csv(\"D:\\\\Programas\\\\OneDrive - Estudiantes ITCR\\\\TEC\\\\Semestre 9\\\\IA\\\\Tareas\\\\Tarea1_IA\\\\ParteA\\\\synchronous machine.csv\", sep=';')\n",
    "def mean_norm(df_input):\n",
    "    return df_input.apply(lambda x: (x-x.min())/(x.max()-x.min()), axis=0)\n",
    "\n",
    "data = mean_norm(data)\n",
    "\n",
    "data.head()"
   ]
  },
  {
   "cell_type": "code",
   "execution_count": null,
   "metadata": {},
   "outputs": [],
   "source": [
    "#Divido los datos en entradas y salidas\n",
    "X=data[[\"wconfid\", \"pctid\"]]\n",
    "y=data[[\"x\", \"y\", \"z\"]]\n",
    "\n",
    "# Divido los datos en datos de entrenamiento y datos de testeo\n",
    "# 60% entrenamiento, 38% para test y 2% para validación\n",
    "X_train,X_test,y_train,y_test = train_test_split(X, y, test_size=0.4, random_state=42)\n",
    "X_val, X_test, y_val, y_test = train_test_split(X_test, y_test, test_size=0.95, random_state=42) "
   ]
  }
 ],
 "metadata": {
  "kernelspec": {
   "display_name": "Python 3",
   "language": "python",
   "name": "python3"
  },
  "language_info": {
   "codemirror_mode": {
    "name": "ipython",
    "version": 3
   },
   "file_extension": ".py",
   "mimetype": "text/x-python",
   "name": "python",
   "nbconvert_exporter": "python",
   "pygments_lexer": "ipython3",
   "version": "3.11.2"
  },
  "orig_nbformat": 4
 },
 "nbformat": 4,
 "nbformat_minor": 2
}
