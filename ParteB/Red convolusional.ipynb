{
 "cells": [
  {
   "attachments": {},
   "cell_type": "markdown",
   "metadata": {},
   "source": [
    "Importación de librerías"
   ]
  },
  {
   "cell_type": "code",
   "execution_count": null,
   "metadata": {},
   "outputs": [],
   "source": [
    "import pandas as pd\n",
    "from keras.utils import to_categorical\n",
    "import numpy as np\n",
    "import matplotlib.pyplot as plt"
   ]
  },
  {
   "cell_type": "code",
   "execution_count": 16,
   "metadata": {},
   "outputs": [
    {
     "data": {
      "text/plain": [
       "array([['normal', '', '', '', '', ''],\n",
       "       ['-2', '-1', '81', '0', '-5', '0'],\n",
       "       ['-2', '-1', '79', '0', '-4', '0'],\n",
       "       ...,\n",
       "       ['-1', '1', '-3', '-3', '-2', '-3'],\n",
       "       ['0', '-1', '-5', '-1', '1', '-3'],\n",
       "       ['-1', '1', '4', '0', '-1', '-3']], dtype='<U18')"
      ]
     },
     "execution_count": 16,
     "metadata": {},
     "output_type": "execute_result"
    }
   ],
   "source": [
    "#data = pd.read_csv('lp5.csv', sep=',')\n",
    "data = np.loadtxt('lp5.csv', delimiter=',',dtype=str)\n",
    "data"
   ]
  },
  {
   "attachments": {},
   "cell_type": "markdown",
   "metadata": {},
   "source": [
    "Separo las categorías y las matrices en listas por aparte"
   ]
  },
  {
   "cell_type": "code",
   "execution_count": 52,
   "metadata": {},
   "outputs": [
    {
     "name": "stdout",
     "output_type": "stream",
     "text": [
      "[array(['normal', '', '', '', '', ''], dtype='<U18'), array(['normal', '', '', '', '', ''], dtype='<U18'), array(['normal', '', '', '', '', ''], dtype='<U18'), array(['normal', '', '', '', '', ''], dtype='<U18'), array(['normal', '', '', '', '', ''], dtype='<U18'), array(['normal', '', '', '', '', ''], dtype='<U18'), array(['normal', '', '', '', '', ''], dtype='<U18'), array(['normal', '', '', '', '', ''], dtype='<U18'), array(['normal', '', '', '', '', ''], dtype='<U18'), array(['normal', '', '', '', '', ''], dtype='<U18'), array(['normal', '', '', '', '', ''], dtype='<U18'), array(['normal', '', '', '', '', ''], dtype='<U18'), array(['normal', '', '', '', '', ''], dtype='<U18'), array(['normal', '', '', '', '', ''], dtype='<U18'), array(['normal', '', '', '', '', ''], dtype='<U18'), array(['normal', '', '', '', '', ''], dtype='<U18'), array(['normal', '', '', '', '', ''], dtype='<U18'), array(['normal', '', '', '', '', ''], dtype='<U18'), array(['normal', '', '', '', '', ''], dtype='<U18'), array(['normal', '', '', '', '', ''], dtype='<U18'), array(['collision_in_tool', '', '', '', '', ''], dtype='<U18'), array(['collision_in_tool', '', '', '', '', ''], dtype='<U18'), array(['collision_in_tool', '', '', '', '', ''], dtype='<U18'), array(['collision_in_tool', '', '', '', '', ''], dtype='<U18'), array(['collision_in_tool', '', '', '', '', ''], dtype='<U18'), array(['collision_in_tool', '', '', '', '', ''], dtype='<U18'), array(['collision_in_tool', '', '', '', '', ''], dtype='<U18'), array(['collision_in_tool', '', '', '', '', ''], dtype='<U18'), array(['collision_in_tool', '', '', '', '', ''], dtype='<U18'), array(['collision_in_part', '', '', '', '', ''], dtype='<U18'), array(['collision_in_tool', '', '', '', '', ''], dtype='<U18'), array(['collision_in_tool', '', '', '', '', ''], dtype='<U18'), array(['collision_in_part', '', '', '', '', ''], dtype='<U18'), array(['collision_in_tool', '', '', '', '', ''], dtype='<U18'), array(['collision_in_part', '', '', '', '', ''], dtype='<U18'), array(['collision_in_part', '', '', '', '', ''], dtype='<U18'), array(['collision_in_part', '', '', '', '', ''], dtype='<U18'), array(['collision_in_part', '', '', '', '', ''], dtype='<U18'), array(['collision_in_part', '', '', '', '', ''], dtype='<U18'), array(['collision_in_part', '', '', '', '', ''], dtype='<U18'), array(['collision_in_part', '', '', '', '', ''], dtype='<U18'), array(['collision_in_part', '', '', '', '', ''], dtype='<U18'), array(['collision_in_part', '', '', '', '', ''], dtype='<U18'), array(['collision_in_part', '', '', '', '', ''], dtype='<U18'), array(['collision_in_tool', '', '', '', '', ''], dtype='<U18'), array(['collision_in_part', '', '', '', '', ''], dtype='<U18'), array(['collision_in_part', '', '', '', '', ''], dtype='<U18'), array(['normal', '', '', '', '', ''], dtype='<U18'), array(['normal', '', '', '', '', ''], dtype='<U18'), array(['normal', '', '', '', '', ''], dtype='<U18'), array(['normal', '', '', '', '', ''], dtype='<U18'), array(['normal', '', '', '', '', ''], dtype='<U18'), array(['normal', '', '', '', '', ''], dtype='<U18'), array(['normal', '', '', '', '', ''], dtype='<U18'), array(['normal', '', '', '', '', ''], dtype='<U18'), array(['normal', '', '', '', '', ''], dtype='<U18'), array(['normal', '', '', '', '', ''], dtype='<U18'), array(['normal', '', '', '', '', ''], dtype='<U18'), array(['normal', '', '', '', '', ''], dtype='<U18'), array(['normal', '', '', '', '', ''], dtype='<U18'), array(['normal', '', '', '', '', ''], dtype='<U18'), array(['normal', '', '', '', '', ''], dtype='<U18'), array(['normal', '', '', '', '', ''], dtype='<U18'), array(['normal', '', '', '', '', ''], dtype='<U18'), array(['normal', '', '', '', '', ''], dtype='<U18'), array(['normal', '', '', '', '', ''], dtype='<U18'), array(['normal', '', '', '', '', ''], dtype='<U18'), array(['normal', '', '', '', '', ''], dtype='<U18'), array(['normal', '', '', '', '', ''], dtype='<U18'), array(['normal', '', '', '', '', ''], dtype='<U18'), array(['normal', '', '', '', '', ''], dtype='<U18'), array(['collision_in_part', '', '', '', '', ''], dtype='<U18'), array(['collision_in_part', '', '', '', '', ''], dtype='<U18'), array(['collision_in_part', '', '', '', '', ''], dtype='<U18'), array(['collision_in_part', '', '', '', '', ''], dtype='<U18'), array(['collision_in_part', '', '', '', '', ''], dtype='<U18'), array(['collision_in_part', '', '', '', '', ''], dtype='<U18'), array(['collision_in_part', '', '', '', '', ''], dtype='<U18'), array(['collision_in_part', '', '', '', '', ''], dtype='<U18'), array(['collision_in_part', '', '', '', '', ''], dtype='<U18'), array(['collision_in_part', '', '', '', '', ''], dtype='<U18'), array(['collision_in_part', '', '', '', '', ''], dtype='<U18'), array(['collision_in_part', '', '', '', '', ''], dtype='<U18'), array(['collision_in_part', '', '', '', '', ''], dtype='<U18'), array(['collision_in_part', '', '', '', '', ''], dtype='<U18'), array(['collision_in_part', '', '', '', '', ''], dtype='<U18'), array(['collision_in_part', '', '', '', '', ''], dtype='<U18'), array(['collision_in_part', '', '', '', '', ''], dtype='<U18'), array(['collision_in_part', '', '', '', '', ''], dtype='<U18'), array(['collision_in_part', '', '', '', '', ''], dtype='<U18'), array(['collision_in_part', '', '', '', '', ''], dtype='<U18'), array(['collision_in_part', '', '', '', '', ''], dtype='<U18'), array(['collision_in_tool', '', '', '', '', ''], dtype='<U18'), array(['collision_in_tool', '', '', '', '', ''], dtype='<U18'), array(['collision_in_tool', '', '', '', '', ''], dtype='<U18'), array(['collision_in_tool', '', '', '', '', ''], dtype='<U18'), array(['collision_in_tool', '', '', '', '', ''], dtype='<U18'), array(['collision_in_tool', '', '', '', '', ''], dtype='<U18'), array(['collision_in_tool', '', '', '', '', ''], dtype='<U18'), array(['collision_in_tool', '', '', '', '', ''], dtype='<U18'), array(['bottom_obstruction', '', '', '', '', ''], dtype='<U18'), array(['bottom_collision', '', '', '', '', ''], dtype='<U18'), array(['bottom_obstruction', '', '', '', '', ''], dtype='<U18'), array(['bottom_obstruction', '', '', '', '', ''], dtype='<U18'), array(['bottom_obstruction', '', '', '', '', ''], dtype='<U18'), array(['bottom_obstruction', '', '', '', '', ''], dtype='<U18'), array(['bottom_collision', '', '', '', '', ''], dtype='<U18'), array(['bottom_collision', '', '', '', '', ''], dtype='<U18'), array(['bottom_collision', '', '', '', '', ''], dtype='<U18'), array(['bottom_obstruction', '', '', '', '', ''], dtype='<U18'), array(['bottom_obstruction', '', '', '', '', ''], dtype='<U18'), array(['bottom_obstruction', '', '', '', '', ''], dtype='<U18'), array(['bottom_obstruction', '', '', '', '', ''], dtype='<U18'), array(['bottom_obstruction', '', '', '', '', ''], dtype='<U18'), array(['bottom_collision', '', '', '', '', ''], dtype='<U18'), array(['bottom_obstruction', '', '', '', '', ''], dtype='<U18'), array(['bottom_collision', '', '', '', '', ''], dtype='<U18'), array(['bottom_obstruction', '', '', '', '', ''], dtype='<U18'), array(['bottom_collision', '', '', '', '', ''], dtype='<U18'), array(['bottom_obstruction', '', '', '', '', ''], dtype='<U18'), array(['bottom_obstruction', '', '', '', '', ''], dtype='<U18'), array(['bottom_collision', '', '', '', '', ''], dtype='<U18'), array(['bottom_obstruction', '', '', '', '', ''], dtype='<U18'), array(['bottom_collision', '', '', '', '', ''], dtype='<U18'), array(['bottom_obstruction', '', '', '', '', ''], dtype='<U18'), array(['bottom_collision', '', '', '', '', ''], dtype='<U18'), array(['bottom_obstruction', '', '', '', '', ''], dtype='<U18'), array(['bottom_collision', '', '', '', '', ''], dtype='<U18'), array(['bottom_collision', '', '', '', '', ''], dtype='<U18'), array(['bottom_collision', '', '', '', '', ''], dtype='<U18'), array(['bottom_collision', '', '', '', '', ''], dtype='<U18'), array(['bottom_obstruction', '', '', '', '', ''], dtype='<U18'), array(['bottom_obstruction', '', '', '', '', ''], dtype='<U18'), array(['bottom_obstruction', '', '', '', '', ''], dtype='<U18'), array(['bottom_collision', '', '', '', '', ''], dtype='<U18'), array(['bottom_collision', '', '', '', '', ''], dtype='<U18'), array(['bottom_collision', '', '', '', '', ''], dtype='<U18'), array(['bottom_collision', '', '', '', '', ''], dtype='<U18'), array(['bottom_collision', '', '', '', '', ''], dtype='<U18'), array(['bottom_collision', '', '', '', '', ''], dtype='<U18'), array(['bottom_collision', '', '', '', '', ''], dtype='<U18'), array(['bottom_collision', '', '', '', '', ''], dtype='<U18'), array(['bottom_collision', '', '', '', '', ''], dtype='<U18'), array(['bottom_obstruction', '', '', '', '', ''], dtype='<U18'), array(['bottom_collision', '', '', '', '', ''], dtype='<U18'), array(['bottom_collision', '', '', '', '', ''], dtype='<U18'), array(['bottom_collision', '', '', '', '', ''], dtype='<U18'), array(['collision_in_part', '', '', '', '', ''], dtype='<U18'), array(['collision_in_part', '', '', '', '', ''], dtype='<U18'), array(['collision_in_part', '', '', '', '', ''], dtype='<U18'), array(['collision_in_part', '', '', '', '', ''], dtype='<U18'), array(['collision_in_part', '', '', '', '', ''], dtype='<U18'), array(['collision_in_part', '', '', '', '', ''], dtype='<U18'), array(['collision_in_part', '', '', '', '', ''], dtype='<U18'), array(['collision_in_part', '', '', '', '', ''], dtype='<U18'), array(['collision_in_part', '', '', '', '', ''], dtype='<U18'), array(['collision_in_part', '', '', '', '', ''], dtype='<U18'), array(['collision_in_part', '', '', '', '', ''], dtype='<U18'), array(['collision_in_part', '', '', '', '', ''], dtype='<U18'), array(['collision_in_tool', '', '', '', '', ''], dtype='<U18'), array(['collision_in_tool', '', '', '', '', ''], dtype='<U18'), array(['collision_in_tool', '', '', '', '', ''], dtype='<U18'), array(['collision_in_tool', '', '', '', '', ''], dtype='<U18'), array(['collision_in_tool', '', '', '', '', ''], dtype='<U18')]\n",
      "2460\n"
     ]
    }
   ],
   "source": [
    "count = 0\n",
    "matriz = []\n",
    "label = []\n",
    "\n",
    "\n",
    "for i in range(2624): \n",
    "    if (count==0):\n",
    "        label.append((data[i]))\n",
    "    if (count > 0):\n",
    "        matriz.append((data[i]))\n",
    "    count+=1 \n",
    "    if (count == 16): \n",
    "      count = 0\n",
    "print(label)\n",
    "print(len(matriz))"
   ]
  },
  {
   "attachments": {},
   "cell_type": "markdown",
   "metadata": {},
   "source": [
    "Añado los datos de la lista \"matriz\" a una matriz"
   ]
  },
  {
   "cell_type": "code",
   "execution_count": 53,
   "metadata": {},
   "outputs": [],
   "source": [
    "matriz_data=np.zeros((len(matriz), 6))\n",
    "\n",
    "for i in range(2460):\n",
    "    for j in range(6):\n",
    "        matriz_data[i][j] = float(matriz[i][j])"
   ]
  },
  {
   "attachments": {},
   "cell_type": "markdown",
   "metadata": {},
   "source": [
    "Uno la matriz y los labels en una sola matriz"
   ]
  },
  {
   "cell_type": "code",
   "execution_count": 54,
   "metadata": {},
   "outputs": [],
   "source": [
    "count = 0\n",
    "mat_final=np.zeros((164,15,6))\n",
    "for i in range(164): \n",
    "    for j in range(15):\n",
    "        for k in range(6):\n",
    "            mat_final[i][j][k] = matriz[count][k] \n",
    "        count += 1 \n",
    "\n"
   ]
  },
  {
   "attachments": {},
   "cell_type": "markdown",
   "metadata": {},
   "source": [
    "Categorización de los labels para la salida del clasificador"
   ]
  },
  {
   "cell_type": "code",
   "execution_count": 99,
   "metadata": {},
   "outputs": [
    {
     "data": {
      "text/html": [
       "<div>\n",
       "<style scoped>\n",
       "    .dataframe tbody tr th:only-of-type {\n",
       "        vertical-align: middle;\n",
       "    }\n",
       "\n",
       "    .dataframe tbody tr th {\n",
       "        vertical-align: top;\n",
       "    }\n",
       "\n",
       "    .dataframe thead th {\n",
       "        text-align: right;\n",
       "    }\n",
       "</style>\n",
       "<table border=\"1\" class=\"dataframe\">\n",
       "  <thead>\n",
       "    <tr style=\"text-align: right;\">\n",
       "      <th></th>\n",
       "      <th>category</th>\n",
       "      <th>1</th>\n",
       "      <th>2</th>\n",
       "      <th>3</th>\n",
       "      <th>4</th>\n",
       "      <th>5</th>\n",
       "    </tr>\n",
       "  </thead>\n",
       "  <tbody>\n",
       "    <tr>\n",
       "      <th>0</th>\n",
       "      <td>normal</td>\n",
       "      <td></td>\n",
       "      <td></td>\n",
       "      <td></td>\n",
       "      <td></td>\n",
       "      <td></td>\n",
       "    </tr>\n",
       "    <tr>\n",
       "      <th>1</th>\n",
       "      <td>normal</td>\n",
       "      <td></td>\n",
       "      <td></td>\n",
       "      <td></td>\n",
       "      <td></td>\n",
       "      <td></td>\n",
       "    </tr>\n",
       "    <tr>\n",
       "      <th>2</th>\n",
       "      <td>normal</td>\n",
       "      <td></td>\n",
       "      <td></td>\n",
       "      <td></td>\n",
       "      <td></td>\n",
       "      <td></td>\n",
       "    </tr>\n",
       "    <tr>\n",
       "      <th>3</th>\n",
       "      <td>normal</td>\n",
       "      <td></td>\n",
       "      <td></td>\n",
       "      <td></td>\n",
       "      <td></td>\n",
       "      <td></td>\n",
       "    </tr>\n",
       "    <tr>\n",
       "      <th>4</th>\n",
       "      <td>normal</td>\n",
       "      <td></td>\n",
       "      <td></td>\n",
       "      <td></td>\n",
       "      <td></td>\n",
       "      <td></td>\n",
       "    </tr>\n",
       "    <tr>\n",
       "      <th>...</th>\n",
       "      <td>...</td>\n",
       "      <td>...</td>\n",
       "      <td>...</td>\n",
       "      <td>...</td>\n",
       "      <td>...</td>\n",
       "      <td>...</td>\n",
       "    </tr>\n",
       "    <tr>\n",
       "      <th>159</th>\n",
       "      <td>collision_in_tool</td>\n",
       "      <td></td>\n",
       "      <td></td>\n",
       "      <td></td>\n",
       "      <td></td>\n",
       "      <td></td>\n",
       "    </tr>\n",
       "    <tr>\n",
       "      <th>160</th>\n",
       "      <td>collision_in_tool</td>\n",
       "      <td></td>\n",
       "      <td></td>\n",
       "      <td></td>\n",
       "      <td></td>\n",
       "      <td></td>\n",
       "    </tr>\n",
       "    <tr>\n",
       "      <th>161</th>\n",
       "      <td>collision_in_tool</td>\n",
       "      <td></td>\n",
       "      <td></td>\n",
       "      <td></td>\n",
       "      <td></td>\n",
       "      <td></td>\n",
       "    </tr>\n",
       "    <tr>\n",
       "      <th>162</th>\n",
       "      <td>collision_in_tool</td>\n",
       "      <td></td>\n",
       "      <td></td>\n",
       "      <td></td>\n",
       "      <td></td>\n",
       "      <td></td>\n",
       "    </tr>\n",
       "    <tr>\n",
       "      <th>163</th>\n",
       "      <td>collision_in_tool</td>\n",
       "      <td></td>\n",
       "      <td></td>\n",
       "      <td></td>\n",
       "      <td></td>\n",
       "      <td></td>\n",
       "    </tr>\n",
       "  </tbody>\n",
       "</table>\n",
       "<p>164 rows × 6 columns</p>\n",
       "</div>"
      ],
      "text/plain": [
       "              category 1  2  3  4  5 \n",
       "0               normal               \n",
       "1               normal               \n",
       "2               normal               \n",
       "3               normal               \n",
       "4               normal               \n",
       "..                 ... .. .. .. .. ..\n",
       "159  collision_in_tool               \n",
       "160  collision_in_tool               \n",
       "161  collision_in_tool               \n",
       "162  collision_in_tool               \n",
       "163  collision_in_tool               \n",
       "\n",
       "[164 rows x 6 columns]"
      ]
     },
     "metadata": {},
     "output_type": "display_data"
    },
    {
     "data": {
      "text/plain": [
       "\"\\ncat[['1', '2', '3', '4', '5']] = cat['label'].str.split(' ', 4, expand= True)\\n\\ncat = cat[['1', '2', '3', '4', '5']].astype(int)\\n\""
      ]
     },
     "execution_count": 99,
     "metadata": {},
     "output_type": "execute_result"
    }
   ],
   "source": [
    "cat = pd.DataFrame(label, columns=['category', '1', '2', '3', '4', '5'])\n",
    "categorias = {\n",
    "    'normal':'1 0 0 0 0',\n",
    "    'collision_in_tool':'0 1 0 0 0',\n",
    "    'collision_in_part':'0 0 1 0 0',\n",
    "    'bottom_collision':'0 0 0 1 0',\n",
    "    'bottom_obstruction':'0 0 0 0 1'}\n",
    "\n",
    "cat = cat.replace({'label':categorias})\n",
    "display(cat)\n",
    "'''\n",
    "cat[['1', '2', '3', '4', '5']] = cat['label'].str.split(' ', 4, expand= True)\n",
    "\n",
    "cat = cat[['1', '2', '3', '4', '5']].astype(int)\n",
    "'''"
   ]
  }
 ],
 "metadata": {
  "kernelspec": {
   "display_name": "Python 3",
   "language": "python",
   "name": "python3"
  },
  "language_info": {
   "codemirror_mode": {
    "name": "ipython",
    "version": 3
   },
   "file_extension": ".py",
   "mimetype": "text/x-python",
   "name": "python",
   "nbconvert_exporter": "python",
   "pygments_lexer": "ipython3",
   "version": "3.11.2"
  },
  "orig_nbformat": 4
 },
 "nbformat": 4,
 "nbformat_minor": 2
}
