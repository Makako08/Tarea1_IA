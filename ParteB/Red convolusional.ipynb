{
 "cells": [
  {
   "attachments": {},
   "cell_type": "markdown",
   "metadata": {},
   "source": [
    "Importación de librerías"
   ]
  },
  {
   "cell_type": "code",
   "execution_count": 7,
   "metadata": {},
   "outputs": [],
   "source": [
    "import pandas as pd\n",
    "from keras.utils import to_categorical\n",
    "import numpy as np\n",
    "import matplotlib.pyplot as plt"
   ]
  },
  {
   "cell_type": "code",
   "execution_count": 8,
   "metadata": {},
   "outputs": [
    {
     "data": {
      "text/plain": [
       "array([['normal', '', '', '', '', ''],\n",
       "       ['-2', '-1', '81', '0', '-5', '0'],\n",
       "       ['-2', '-1', '79', '0', '-4', '0'],\n",
       "       ...,\n",
       "       ['-1', '1', '-3', '-3', '-2', '-3'],\n",
       "       ['0', '-1', '-5', '-1', '1', '-3'],\n",
       "       ['-1', '1', '4', '0', '-1', '-3']], dtype='<U18')"
      ]
     },
     "execution_count": 8,
     "metadata": {},
     "output_type": "execute_result"
    }
   ],
   "source": [
    "#data = pd.read_csv('lp5.csv', sep=',')\n",
    "data = np.loadtxt('lp5.csv', delimiter=',',dtype=str)\n",
    "data"
   ]
  },
  {
   "attachments": {},
   "cell_type": "markdown",
   "metadata": {},
   "source": [
    "Separo las categorías y las matrices en listas por aparte"
   ]
  },
  {
   "cell_type": "code",
   "execution_count": 9,
   "metadata": {},
   "outputs": [
    {
     "name": "stdout",
     "output_type": "stream",
     "text": [
      "[array(['normal', '', '', '', '', ''], dtype='<U18'), array(['normal', '', '', '', '', ''], dtype='<U18'), array(['normal', '', '', '', '', ''], dtype='<U18'), array(['normal', '', '', '', '', ''], dtype='<U18'), array(['normal', '', '', '', '', ''], dtype='<U18'), array(['normal', '', '', '', '', ''], dtype='<U18'), array(['normal', '', '', '', '', ''], dtype='<U18'), array(['normal', '', '', '', '', ''], dtype='<U18'), array(['normal', '', '', '', '', ''], dtype='<U18'), array(['normal', '', '', '', '', ''], dtype='<U18'), array(['normal', '', '', '', '', ''], dtype='<U18'), array(['normal', '', '', '', '', ''], dtype='<U18'), array(['normal', '', '', '', '', ''], dtype='<U18'), array(['normal', '', '', '', '', ''], dtype='<U18'), array(['normal', '', '', '', '', ''], dtype='<U18'), array(['normal', '', '', '', '', ''], dtype='<U18'), array(['normal', '', '', '', '', ''], dtype='<U18'), array(['normal', '', '', '', '', ''], dtype='<U18'), array(['normal', '', '', '', '', ''], dtype='<U18'), array(['normal', '', '', '', '', ''], dtype='<U18'), array(['collision_in_tool', '', '', '', '', ''], dtype='<U18'), array(['collision_in_tool', '', '', '', '', ''], dtype='<U18'), array(['collision_in_tool', '', '', '', '', ''], dtype='<U18'), array(['collision_in_tool', '', '', '', '', ''], dtype='<U18'), array(['collision_in_tool', '', '', '', '', ''], dtype='<U18'), array(['collision_in_tool', '', '', '', '', ''], dtype='<U18'), array(['collision_in_tool', '', '', '', '', ''], dtype='<U18'), array(['collision_in_tool', '', '', '', '', ''], dtype='<U18'), array(['collision_in_tool', '', '', '', '', ''], dtype='<U18'), array(['collision_in_part', '', '', '', '', ''], dtype='<U18'), array(['collision_in_tool', '', '', '', '', ''], dtype='<U18'), array(['collision_in_tool', '', '', '', '', ''], dtype='<U18'), array(['collision_in_part', '', '', '', '', ''], dtype='<U18'), array(['collision_in_tool', '', '', '', '', ''], dtype='<U18'), array(['collision_in_part', '', '', '', '', ''], dtype='<U18'), array(['collision_in_part', '', '', '', '', ''], dtype='<U18'), array(['collision_in_part', '', '', '', '', ''], dtype='<U18'), array(['collision_in_part', '', '', '', '', ''], dtype='<U18'), array(['collision_in_part', '', '', '', '', ''], dtype='<U18'), array(['collision_in_part', '', '', '', '', ''], dtype='<U18'), array(['collision_in_part', '', '', '', '', ''], dtype='<U18'), array(['collision_in_part', '', '', '', '', ''], dtype='<U18'), array(['collision_in_part', '', '', '', '', ''], dtype='<U18'), array(['collision_in_part', '', '', '', '', ''], dtype='<U18'), array(['collision_in_tool', '', '', '', '', ''], dtype='<U18'), array(['collision_in_part', '', '', '', '', ''], dtype='<U18'), array(['collision_in_part', '', '', '', '', ''], dtype='<U18'), array(['normal', '', '', '', '', ''], dtype='<U18'), array(['normal', '', '', '', '', ''], dtype='<U18'), array(['normal', '', '', '', '', ''], dtype='<U18'), array(['normal', '', '', '', '', ''], dtype='<U18'), array(['normal', '', '', '', '', ''], dtype='<U18'), array(['normal', '', '', '', '', ''], dtype='<U18'), array(['normal', '', '', '', '', ''], dtype='<U18'), array(['normal', '', '', '', '', ''], dtype='<U18'), array(['normal', '', '', '', '', ''], dtype='<U18'), array(['normal', '', '', '', '', ''], dtype='<U18'), array(['normal', '', '', '', '', ''], dtype='<U18'), array(['normal', '', '', '', '', ''], dtype='<U18'), array(['normal', '', '', '', '', ''], dtype='<U18'), array(['normal', '', '', '', '', ''], dtype='<U18'), array(['normal', '', '', '', '', ''], dtype='<U18'), array(['normal', '', '', '', '', ''], dtype='<U18'), array(['normal', '', '', '', '', ''], dtype='<U18'), array(['normal', '', '', '', '', ''], dtype='<U18'), array(['normal', '', '', '', '', ''], dtype='<U18'), array(['normal', '', '', '', '', ''], dtype='<U18'), array(['normal', '', '', '', '', ''], dtype='<U18'), array(['normal', '', '', '', '', ''], dtype='<U18'), array(['normal', '', '', '', '', ''], dtype='<U18'), array(['normal', '', '', '', '', ''], dtype='<U18'), array(['collision_in_part', '', '', '', '', ''], dtype='<U18'), array(['collision_in_part', '', '', '', '', ''], dtype='<U18'), array(['collision_in_part', '', '', '', '', ''], dtype='<U18'), array(['collision_in_part', '', '', '', '', ''], dtype='<U18'), array(['collision_in_part', '', '', '', '', ''], dtype='<U18'), array(['collision_in_part', '', '', '', '', ''], dtype='<U18'), array(['collision_in_part', '', '', '', '', ''], dtype='<U18'), array(['collision_in_part', '', '', '', '', ''], dtype='<U18'), array(['collision_in_part', '', '', '', '', ''], dtype='<U18'), array(['collision_in_part', '', '', '', '', ''], dtype='<U18'), array(['collision_in_part', '', '', '', '', ''], dtype='<U18'), array(['collision_in_part', '', '', '', '', ''], dtype='<U18'), array(['collision_in_part', '', '', '', '', ''], dtype='<U18'), array(['collision_in_part', '', '', '', '', ''], dtype='<U18'), array(['collision_in_part', '', '', '', '', ''], dtype='<U18'), array(['collision_in_part', '', '', '', '', ''], dtype='<U18'), array(['collision_in_part', '', '', '', '', ''], dtype='<U18'), array(['collision_in_part', '', '', '', '', ''], dtype='<U18'), array(['collision_in_part', '', '', '', '', ''], dtype='<U18'), array(['collision_in_part', '', '', '', '', ''], dtype='<U18'), array(['collision_in_part', '', '', '', '', ''], dtype='<U18'), array(['collision_in_tool', '', '', '', '', ''], dtype='<U18'), array(['collision_in_tool', '', '', '', '', ''], dtype='<U18'), array(['collision_in_tool', '', '', '', '', ''], dtype='<U18'), array(['collision_in_tool', '', '', '', '', ''], dtype='<U18'), array(['collision_in_tool', '', '', '', '', ''], dtype='<U18'), array(['collision_in_tool', '', '', '', '', ''], dtype='<U18'), array(['collision_in_tool', '', '', '', '', ''], dtype='<U18'), array(['collision_in_tool', '', '', '', '', ''], dtype='<U18'), array(['bottom_obstruction', '', '', '', '', ''], dtype='<U18'), array(['bottom_collision', '', '', '', '', ''], dtype='<U18'), array(['bottom_obstruction', '', '', '', '', ''], dtype='<U18'), array(['bottom_obstruction', '', '', '', '', ''], dtype='<U18'), array(['bottom_obstruction', '', '', '', '', ''], dtype='<U18'), array(['bottom_obstruction', '', '', '', '', ''], dtype='<U18'), array(['bottom_collision', '', '', '', '', ''], dtype='<U18'), array(['bottom_collision', '', '', '', '', ''], dtype='<U18'), array(['bottom_collision', '', '', '', '', ''], dtype='<U18'), array(['bottom_obstruction', '', '', '', '', ''], dtype='<U18'), array(['bottom_obstruction', '', '', '', '', ''], dtype='<U18'), array(['bottom_obstruction', '', '', '', '', ''], dtype='<U18'), array(['bottom_obstruction', '', '', '', '', ''], dtype='<U18'), array(['bottom_obstruction', '', '', '', '', ''], dtype='<U18'), array(['bottom_collision', '', '', '', '', ''], dtype='<U18'), array(['bottom_obstruction', '', '', '', '', ''], dtype='<U18'), array(['bottom_collision', '', '', '', '', ''], dtype='<U18'), array(['bottom_obstruction', '', '', '', '', ''], dtype='<U18'), array(['bottom_collision', '', '', '', '', ''], dtype='<U18'), array(['bottom_obstruction', '', '', '', '', ''], dtype='<U18'), array(['bottom_obstruction', '', '', '', '', ''], dtype='<U18'), array(['bottom_collision', '', '', '', '', ''], dtype='<U18'), array(['bottom_obstruction', '', '', '', '', ''], dtype='<U18'), array(['bottom_collision', '', '', '', '', ''], dtype='<U18'), array(['bottom_obstruction', '', '', '', '', ''], dtype='<U18'), array(['bottom_collision', '', '', '', '', ''], dtype='<U18'), array(['bottom_obstruction', '', '', '', '', ''], dtype='<U18'), array(['bottom_collision', '', '', '', '', ''], dtype='<U18'), array(['bottom_collision', '', '', '', '', ''], dtype='<U18'), array(['bottom_collision', '', '', '', '', ''], dtype='<U18'), array(['bottom_collision', '', '', '', '', ''], dtype='<U18'), array(['bottom_obstruction', '', '', '', '', ''], dtype='<U18'), array(['bottom_obstruction', '', '', '', '', ''], dtype='<U18'), array(['bottom_obstruction', '', '', '', '', ''], dtype='<U18'), array(['bottom_collision', '', '', '', '', ''], dtype='<U18'), array(['bottom_collision', '', '', '', '', ''], dtype='<U18'), array(['bottom_collision', '', '', '', '', ''], dtype='<U18'), array(['bottom_collision', '', '', '', '', ''], dtype='<U18'), array(['bottom_collision', '', '', '', '', ''], dtype='<U18'), array(['bottom_collision', '', '', '', '', ''], dtype='<U18'), array(['bottom_collision', '', '', '', '', ''], dtype='<U18'), array(['bottom_collision', '', '', '', '', ''], dtype='<U18'), array(['bottom_collision', '', '', '', '', ''], dtype='<U18'), array(['bottom_obstruction', '', '', '', '', ''], dtype='<U18'), array(['bottom_collision', '', '', '', '', ''], dtype='<U18'), array(['bottom_collision', '', '', '', '', ''], dtype='<U18'), array(['bottom_collision', '', '', '', '', ''], dtype='<U18'), array(['collision_in_part', '', '', '', '', ''], dtype='<U18'), array(['collision_in_part', '', '', '', '', ''], dtype='<U18'), array(['collision_in_part', '', '', '', '', ''], dtype='<U18'), array(['collision_in_part', '', '', '', '', ''], dtype='<U18'), array(['collision_in_part', '', '', '', '', ''], dtype='<U18'), array(['collision_in_part', '', '', '', '', ''], dtype='<U18'), array(['collision_in_part', '', '', '', '', ''], dtype='<U18'), array(['collision_in_part', '', '', '', '', ''], dtype='<U18'), array(['collision_in_part', '', '', '', '', ''], dtype='<U18'), array(['collision_in_part', '', '', '', '', ''], dtype='<U18'), array(['collision_in_part', '', '', '', '', ''], dtype='<U18'), array(['collision_in_part', '', '', '', '', ''], dtype='<U18'), array(['collision_in_tool', '', '', '', '', ''], dtype='<U18'), array(['collision_in_tool', '', '', '', '', ''], dtype='<U18'), array(['collision_in_tool', '', '', '', '', ''], dtype='<U18'), array(['collision_in_tool', '', '', '', '', ''], dtype='<U18'), array(['collision_in_tool', '', '', '', '', ''], dtype='<U18')]\n",
      "2460\n"
     ]
    }
   ],
   "source": [
    "count = 0\n",
    "matriz = []\n",
    "label = []\n",
    "\n",
    "\n",
    "for i in range(2624): \n",
    "    if (count==0):\n",
    "        label.append((data[i]))\n",
    "    if (count > 0):\n",
    "        matriz.append((data[i]))\n",
    "    count+=1 \n",
    "    if (count == 16): \n",
    "      count = 0\n",
    "print(label)\n",
    "print(len(matriz))"
   ]
  },
  {
   "attachments": {},
   "cell_type": "markdown",
   "metadata": {},
   "source": [
    "Añado los datos de la lista \"matriz\" a una matriz"
   ]
  },
  {
   "cell_type": "code",
   "execution_count": 10,
   "metadata": {},
   "outputs": [],
   "source": [
    "matriz_data=np.zeros((len(matriz), 6))\n",
    "\n",
    "for i in range(2460):\n",
    "    for j in range(6):\n",
    "        matriz_data[i][j] = float(matriz[i][j])"
   ]
  },
  {
   "attachments": {},
   "cell_type": "markdown",
   "metadata": {},
   "source": [
    "Uno la matriz y los labels en una sola matriz"
   ]
  },
  {
   "cell_type": "code",
   "execution_count": 11,
   "metadata": {},
   "outputs": [],
   "source": [
    "count = 0\n",
    "mat_final=np.zeros((164,15,6))\n",
    "for i in range(164): \n",
    "    for j in range(15):\n",
    "        for k in range(6):\n",
    "            mat_final[i][j][k] = matriz[count][k] \n",
    "        count += 1 \n",
    "\n"
   ]
  },
  {
   "attachments": {},
   "cell_type": "markdown",
   "metadata": {},
   "source": [
    "Categorización de los labels para la salida del clasificador"
   ]
  },
  {
   "cell_type": "code",
   "execution_count": 1,
   "metadata": {},
   "outputs": [
    {
     "ename": "NameError",
     "evalue": "name 'pd' is not defined",
     "output_type": "error",
     "traceback": [
      "\u001b[1;31m---------------------------------------------------------------------------\u001b[0m",
      "\u001b[1;31mNameError\u001b[0m                                 Traceback (most recent call last)",
      "Cell \u001b[1;32mIn[1], line 1\u001b[0m\n\u001b[1;32m----> 1\u001b[0m cat \u001b[39m=\u001b[39m pd\u001b[39m.\u001b[39mDataFrame(label, columns\u001b[39m=\u001b[39m[\u001b[39m'\u001b[39m\u001b[39mcategory\u001b[39m\u001b[39m'\u001b[39m, \u001b[39m'\u001b[39m\u001b[39m1\u001b[39m\u001b[39m'\u001b[39m, \u001b[39m'\u001b[39m\u001b[39m2\u001b[39m\u001b[39m'\u001b[39m, \u001b[39m'\u001b[39m\u001b[39m3\u001b[39m\u001b[39m'\u001b[39m, \u001b[39m'\u001b[39m\u001b[39m4\u001b[39m\u001b[39m'\u001b[39m, \u001b[39m'\u001b[39m\u001b[39m5\u001b[39m\u001b[39m'\u001b[39m])\n\u001b[0;32m      2\u001b[0m categorias \u001b[39m=\u001b[39m {\n\u001b[0;32m      3\u001b[0m     \u001b[39m'\u001b[39m\u001b[39mnormal\u001b[39m\u001b[39m'\u001b[39m:[\u001b[39m1\u001b[39m, \u001b[39m0\u001b[39m, \u001b[39m0\u001b[39m, \u001b[39m0\u001b[39m, \u001b[39m0\u001b[39m],\n\u001b[0;32m      4\u001b[0m     \u001b[39m'\u001b[39m\u001b[39mcollision_in_tool\u001b[39m\u001b[39m'\u001b[39m:[\u001b[39m0\u001b[39m, \u001b[39m1\u001b[39m, \u001b[39m0\u001b[39m, \u001b[39m0\u001b[39m, \u001b[39m0\u001b[39m],\n\u001b[0;32m      5\u001b[0m     \u001b[39m'\u001b[39m\u001b[39mcollision_in_part\u001b[39m\u001b[39m'\u001b[39m:[\u001b[39m0\u001b[39m, \u001b[39m0\u001b[39m, \u001b[39m1\u001b[39m, \u001b[39m0\u001b[39m, \u001b[39m0\u001b[39m],\n\u001b[0;32m      6\u001b[0m     \u001b[39m'\u001b[39m\u001b[39mbottom_collision\u001b[39m\u001b[39m'\u001b[39m:[\u001b[39m0\u001b[39m, \u001b[39m0\u001b[39m, \u001b[39m0\u001b[39m, \u001b[39m1\u001b[39m, \u001b[39m0\u001b[39m],\n\u001b[0;32m      7\u001b[0m     \u001b[39m'\u001b[39m\u001b[39mbottom_obstruction\u001b[39m\u001b[39m'\u001b[39m:[\u001b[39m0\u001b[39m, \u001b[39m0\u001b[39m, \u001b[39m0\u001b[39m, \u001b[39m0\u001b[39m, \u001b[39m1\u001b[39m]}\n\u001b[0;32m      9\u001b[0m cat \u001b[39m=\u001b[39m cat\u001b[39m.\u001b[39mreplace({\u001b[39m'\u001b[39m\u001b[39mlabel\u001b[39m\u001b[39m'\u001b[39m:categorias})\n",
      "\u001b[1;31mNameError\u001b[0m: name 'pd' is not defined"
     ]
    }
   ],
   "source": [
    "cat = pd.DataFrame(label, columns=['category', '1', '2', '3', '4', '5'])\n",
    "categorias = {\n",
    "    'normal':[1, 0, 0, 0, 0],\n",
    "    'collision_in_tool':[0, 1, 0, 0, 0],\n",
    "    'collision_in_part':[0, 0, 1, 0, 0],\n",
    "    'bottom_collision':[0, 0, 0, 1, 0],\n",
    "    'bottom_obstruction':[0, 0, 0, 0, 1]}\n",
    "\n",
    "cat = cat.replace({'label':categorias})\n",
    "\n",
    "display(cat)\n",
    "cat[['1', '2', '3', '4', '5']] = cat['label'].str.split(' ', 4, expand= True)\n",
    "cat = cat[['1', '2', '3', '4', '5']].astype(int)\n"
   ]
  }
 ],
 "metadata": {
  "kernelspec": {
   "display_name": "Python 3",
   "language": "python",
   "name": "python3"
  },
  "language_info": {
   "codemirror_mode": {
    "name": "ipython",
    "version": 3
   },
   "file_extension": ".py",
   "mimetype": "text/x-python",
   "name": "python",
   "nbconvert_exporter": "python",
   "pygments_lexer": "ipython3",
   "version": "3.11.2"
  },
  "orig_nbformat": 4
 },
 "nbformat": 4,
 "nbformat_minor": 2
}
