{
 "cells": [
  {
   "attachments": {},
   "cell_type": "markdown",
   "metadata": {},
   "source": [
    "Importación de librerías"
   ]
  },
  {
   "cell_type": "code",
   "execution_count": 7,
   "metadata": {},
   "outputs": [],
   "source": [
    "import pandas as pd\n",
    "from keras.utils import to_categorical\n",
    "import numpy as np\n",
    "import matplotlib.pyplot as plt"
   ]
  },
  {
   "cell_type": "code",
   "execution_count": 8,
   "metadata": {},
   "outputs": [
    {
     "data": {
      "text/plain": [
       "array([['normal', '', '', '', '', ''],\n",
       "       ['-2', '-1', '81', '0', '-5', '0'],\n",
       "       ['-2', '-1', '79', '0', '-4', '0'],\n",
       "       ...,\n",
       "       ['-1', '1', '-3', '-3', '-2', '-3'],\n",
       "       ['0', '-1', '-5', '-1', '1', '-3'],\n",
       "       ['-1', '1', '4', '0', '-1', '-3']], dtype='<U18')"
      ]
     },
     "execution_count": 8,
     "metadata": {},
     "output_type": "execute_result"
    }
   ],
   "source": [
    "#data = pd.read_csv('lp5.csv', sep=',')\n",
    "data = np.loadtxt('lp5.csv', delimiter=',',dtype=str)\n",
    "data"
   ]
  },
  {
   "attachments": {},
   "cell_type": "markdown",
   "metadata": {},
   "source": [
    "Separo las categorías y las matrices en listas por aparte"
   ]
  },
  {
   "cell_type": "code",
   "execution_count": 9,
   "metadata": {},
   "outputs": [
    {
     "name": "stdout",
     "output_type": "stream",
     "text": [
      "[array(['normal', '', '', '', '', ''], dtype='<U18'), array(['normal', '', '', '', '', ''], dtype='<U18'), array(['normal', '', '', '', '', ''], dtype='<U18'), array(['normal', '', '', '', '', ''], dtype='<U18'), array(['normal', '', '', '', '', ''], dtype='<U18'), array(['normal', '', '', '', '', ''], dtype='<U18'), array(['normal', '', '', '', '', ''], dtype='<U18'), array(['normal', '', '', '', '', ''], dtype='<U18'), array(['normal', '', '', '', '', ''], dtype='<U18'), array(['normal', '', '', '', '', ''], dtype='<U18'), array(['normal', '', '', '', '', ''], dtype='<U18'), array(['normal', '', '', '', '', ''], dtype='<U18'), array(['normal', '', '', '', '', ''], dtype='<U18'), array(['normal', '', '', '', '', ''], dtype='<U18'), array(['normal', '', '', '', '', ''], dtype='<U18'), array(['normal', '', '', '', '', ''], dtype='<U18'), array(['normal', '', '', '', '', ''], dtype='<U18'), array(['normal', '', '', '', '', ''], dtype='<U18'), array(['normal', '', '', '', '', ''], dtype='<U18'), array(['normal', '', '', '', '', ''], dtype='<U18'), array(['collision_in_tool', '', '', '', '', ''], dtype='<U18'), array(['collision_in_tool', '', '', '', '', ''], dtype='<U18'), array(['collision_in_tool', '', '', '', '', ''], dtype='<U18'), array(['collision_in_tool', '', '', '', '', ''], dtype='<U18'), array(['collision_in_tool', '', '', '', '', ''], dtype='<U18'), array(['collision_in_tool', '', '', '', '', ''], dtype='<U18'), array(['collision_in_tool', '', '', '', '', ''], dtype='<U18'), array(['collision_in_tool', '', '', '', '', ''], dtype='<U18'), array(['collision_in_tool', '', '', '', '', ''], dtype='<U18'), array(['collision_in_part', '', '', '', '', ''], dtype='<U18'), array(['collision_in_tool', '', '', '', '', ''], dtype='<U18'), array(['collision_in_tool', '', '', '', '', ''], dtype='<U18'), array(['collision_in_part', '', '', '', '', ''], dtype='<U18'), array(['collision_in_tool', '', '', '', '', ''], dtype='<U18'), array(['collision_in_part', '', '', '', '', ''], dtype='<U18'), array(['collision_in_part', '', '', '', '', ''], dtype='<U18'), array(['collision_in_part', '', '', '', '', ''], dtype='<U18'), array(['collision_in_part', '', '', '', '', ''], dtype='<U18'), array(['collision_in_part', '', '', '', '', ''], dtype='<U18'), array(['collision_in_part', '', '', '', '', ''], dtype='<U18'), array(['collision_in_part', '', '', '', '', ''], dtype='<U18'), array(['collision_in_part', '', '', '', '', ''], dtype='<U18'), array(['collision_in_part', '', '', '', '', ''], dtype='<U18'), array(['collision_in_part', '', '', '', '', ''], dtype='<U18'), array(['collision_in_tool', '', '', '', '', ''], dtype='<U18'), array(['collision_in_part', '', '', '', '', ''], dtype='<U18'), array(['collision_in_part', '', '', '', '', ''], dtype='<U18'), array(['normal', '', '', '', '', ''], dtype='<U18'), array(['normal', '', '', '', '', ''], dtype='<U18'), array(['normal', '', '', '', '', ''], dtype='<U18'), array(['normal', '', '', '', '', ''], dtype='<U18'), array(['normal', '', '', '', '', ''], dtype='<U18'), array(['normal', '', '', '', '', ''], dtype='<U18'), array(['normal', '', '', '', '', ''], dtype='<U18'), array(['normal', '', '', '', '', ''], dtype='<U18'), array(['normal', '', '', '', '', ''], dtype='<U18'), array(['normal', '', '', '', '', ''], dtype='<U18'), array(['normal', '', '', '', '', ''], dtype='<U18'), array(['normal', '', '', '', '', ''], dtype='<U18'), array(['normal', '', '', '', '', ''], dtype='<U18'), array(['normal', '', '', '', '', ''], dtype='<U18'), array(['normal', '', '', '', '', ''], dtype='<U18'), array(['normal', '', '', '', '', ''], dtype='<U18'), array(['normal', '', '', '', '', ''], dtype='<U18'), array(['normal', '', '', '', '', ''], dtype='<U18'), array(['normal', '', '', '', '', ''], dtype='<U18'), array(['normal', '', '', '', '', ''], dtype='<U18'), array(['normal', '', '', '', '', ''], dtype='<U18'), array(['normal', '', '', '', '', ''], dtype='<U18'), array(['normal', '', '', '', '', ''], dtype='<U18'), array(['normal', '', '', '', '', ''], dtype='<U18'), array(['collision_in_part', '', '', '', '', ''], dtype='<U18'), array(['collision_in_part', '', '', '', '', ''], dtype='<U18'), array(['collision_in_part', '', '', '', '', ''], dtype='<U18'), array(['collision_in_part', '', '', '', '', ''], dtype='<U18'), array(['collision_in_part', '', '', '', '', ''], dtype='<U18'), array(['collision_in_part', '', '', '', '', ''], dtype='<U18'), array(['collision_in_part', '', '', '', '', ''], dtype='<U18'), array(['collision_in_part', '', '', '', '', ''], dtype='<U18'), array(['collision_in_part', '', '', '', '', ''], dtype='<U18'), array(['collision_in_part', '', '', '', '', ''], dtype='<U18'), array(['collision_in_part', '', '', '', '', ''], dtype='<U18'), array(['collision_in_part', '', '', '', '', ''], dtype='<U18'), array(['collision_in_part', '', '', '', '', ''], dtype='<U18'), array(['collision_in_part', '', '', '', '', ''], dtype='<U18'), array(['collision_in_part', '', '', '', '', ''], dtype='<U18'), array(['collision_in_part', '', '', '', '', ''], dtype='<U18'), array(['collision_in_part', '', '', '', '', ''], dtype='<U18'), array(['collision_in_part', '', '', '', '', ''], dtype='<U18'), array(['collision_in_part', '', '', '', '', ''], dtype='<U18'), array(['collision_in_part', '', '', '', '', ''], dtype='<U18'), array(['collision_in_part', '', '', '', '', ''], dtype='<U18'), array(['collision_in_tool', '', '', '', '', ''], dtype='<U18'), array(['collision_in_tool', '', '', '', '', ''], dtype='<U18'), array(['collision_in_tool', '', '', '', '', ''], dtype='<U18'), array(['collision_in_tool', '', '', '', '', ''], dtype='<U18'), array(['collision_in_tool', '', '', '', '', ''], dtype='<U18'), array(['collision_in_tool', '', '', '', '', ''], dtype='<U18'), array(['collision_in_tool', '', '', '', '', ''], dtype='<U18'), array(['collision_in_tool', '', '', '', '', ''], dtype='<U18'), array(['bottom_obstruction', '', '', '', '', ''], dtype='<U18'), array(['bottom_collision', '', '', '', '', ''], dtype='<U18'), array(['bottom_obstruction', '', '', '', '', ''], dtype='<U18'), array(['bottom_obstruction', '', '', '', '', ''], dtype='<U18'), array(['bottom_obstruction', '', '', '', '', ''], dtype='<U18'), array(['bottom_obstruction', '', '', '', '', ''], dtype='<U18'), array(['bottom_collision', '', '', '', '', ''], dtype='<U18'), array(['bottom_collision', '', '', '', '', ''], dtype='<U18'), array(['bottom_collision', '', '', '', '', ''], dtype='<U18'), array(['bottom_obstruction', '', '', '', '', ''], dtype='<U18'), array(['bottom_obstruction', '', '', '', '', ''], dtype='<U18'), array(['bottom_obstruction', '', '', '', '', ''], dtype='<U18'), array(['bottom_obstruction', '', '', '', '', ''], dtype='<U18'), array(['bottom_obstruction', '', '', '', '', ''], dtype='<U18'), array(['bottom_collision', '', '', '', '', ''], dtype='<U18'), array(['bottom_obstruction', '', '', '', '', ''], dtype='<U18'), array(['bottom_collision', '', '', '', '', ''], dtype='<U18'), array(['bottom_obstruction', '', '', '', '', ''], dtype='<U18'), array(['bottom_collision', '', '', '', '', ''], dtype='<U18'), array(['bottom_obstruction', '', '', '', '', ''], dtype='<U18'), array(['bottom_obstruction', '', '', '', '', ''], dtype='<U18'), array(['bottom_collision', '', '', '', '', ''], dtype='<U18'), array(['bottom_obstruction', '', '', '', '', ''], dtype='<U18'), array(['bottom_collision', '', '', '', '', ''], dtype='<U18'), array(['bottom_obstruction', '', '', '', '', ''], dtype='<U18'), array(['bottom_collision', '', '', '', '', ''], dtype='<U18'), array(['bottom_obstruction', '', '', '', '', ''], dtype='<U18'), array(['bottom_collision', '', '', '', '', ''], dtype='<U18'), array(['bottom_collision', '', '', '', '', ''], dtype='<U18'), array(['bottom_collision', '', '', '', '', ''], dtype='<U18'), array(['bottom_collision', '', '', '', '', ''], dtype='<U18'), array(['bottom_obstruction', '', '', '', '', ''], dtype='<U18'), array(['bottom_obstruction', '', '', '', '', ''], dtype='<U18'), array(['bottom_obstruction', '', '', '', '', ''], dtype='<U18'), array(['bottom_collision', '', '', '', '', ''], dtype='<U18'), array(['bottom_collision', '', '', '', '', ''], dtype='<U18'), array(['bottom_collision', '', '', '', '', ''], dtype='<U18'), array(['bottom_collision', '', '', '', '', ''], dtype='<U18'), array(['bottom_collision', '', '', '', '', ''], dtype='<U18'), array(['bottom_collision', '', '', '', '', ''], dtype='<U18'), array(['bottom_collision', '', '', '', '', ''], dtype='<U18'), array(['bottom_collision', '', '', '', '', ''], dtype='<U18'), array(['bottom_collision', '', '', '', '', ''], dtype='<U18'), array(['bottom_obstruction', '', '', '', '', ''], dtype='<U18'), array(['bottom_collision', '', '', '', '', ''], dtype='<U18'), array(['bottom_collision', '', '', '', '', ''], dtype='<U18'), array(['bottom_collision', '', '', '', '', ''], dtype='<U18'), array(['collision_in_part', '', '', '', '', ''], dtype='<U18'), array(['collision_in_part', '', '', '', '', ''], dtype='<U18'), array(['collision_in_part', '', '', '', '', ''], dtype='<U18'), array(['collision_in_part', '', '', '', '', ''], dtype='<U18'), array(['collision_in_part', '', '', '', '', ''], dtype='<U18'), array(['collision_in_part', '', '', '', '', ''], dtype='<U18'), array(['collision_in_part', '', '', '', '', ''], dtype='<U18'), array(['collision_in_part', '', '', '', '', ''], dtype='<U18'), array(['collision_in_part', '', '', '', '', ''], dtype='<U18'), array(['collision_in_part', '', '', '', '', ''], dtype='<U18'), array(['collision_in_part', '', '', '', '', ''], dtype='<U18'), array(['collision_in_part', '', '', '', '', ''], dtype='<U18'), array(['collision_in_tool', '', '', '', '', ''], dtype='<U18'), array(['collision_in_tool', '', '', '', '', ''], dtype='<U18'), array(['collision_in_tool', '', '', '', '', ''], dtype='<U18'), array(['collision_in_tool', '', '', '', '', ''], dtype='<U18'), array(['collision_in_tool', '', '', '', '', ''], dtype='<U18')]\n",
      "2460\n"
     ]
    }
   ],
   "source": [
    "count = 0\n",
    "matriz = []\n",
    "label = []\n",
    "\n",
    "\n",
    "for i in range(2624): \n",
    "    if (count==0):\n",
    "        label.append((data[i]))\n",
    "    if (count > 0):\n",
    "        matriz.append((data[i]))\n",
    "    count+=1 \n",
    "    if (count == 16): \n",
    "      count = 0\n",
    "print(label)\n",
    "print(len(matriz))"
   ]
  },
  {
   "attachments": {},
   "cell_type": "markdown",
   "metadata": {},
   "source": [
    "Añado los datos de la lista \"matriz\" a una matriz"
   ]
  },
  {
   "cell_type": "code",
   "execution_count": 10,
   "metadata": {},
   "outputs": [],
   "source": [
    "matriz_data=np.zeros((len(matriz), 6))\n",
    "\n",
    "for i in range(2460):\n",
    "    for j in range(6):\n",
    "        matriz_data[i][j] = float(matriz[i][j])"
   ]
  },
  {
   "attachments": {},
   "cell_type": "markdown",
   "metadata": {},
   "source": [
    "Uno la matriz y los labels en una sola matriz"
   ]
  },
  {
   "cell_type": "code",
   "execution_count": 11,
   "metadata": {},
   "outputs": [],
   "source": [
    "count = 0\n",
    "mat_final=np.zeros((164,15,6))\n",
    "for i in range(164): \n",
    "    for j in range(15):\n",
    "        for k in range(6):\n",
    "            mat_final[i][j][k] = matriz[count][k] \n",
    "        count += 1 \n",
    "\n"
   ]
  },
  {
   "attachments": {},
   "cell_type": "markdown",
   "metadata": {},
   "source": [
    "Categorización de los labels para la salida del clasificador"
   ]
  },
  {
   "cell_type": "code",
   "execution_count": 13,
   "metadata": {},
   "outputs": [
    {
     "data": {
      "text/html": [
       "<div>\n",
       "<style scoped>\n",
       "    .dataframe tbody tr th:only-of-type {\n",
       "        vertical-align: middle;\n",
       "    }\n",
       "\n",
       "    .dataframe tbody tr th {\n",
       "        vertical-align: top;\n",
       "    }\n",
       "\n",
       "    .dataframe thead th {\n",
       "        text-align: right;\n",
       "    }\n",
       "</style>\n",
       "<table border=\"1\" class=\"dataframe\">\n",
       "  <thead>\n",
       "    <tr style=\"text-align: right;\">\n",
       "      <th></th>\n",
       "      <th>category</th>\n",
       "      <th>1</th>\n",
       "      <th>2</th>\n",
       "      <th>3</th>\n",
       "      <th>4</th>\n",
       "      <th>5</th>\n",
       "    </tr>\n",
       "  </thead>\n",
       "  <tbody>\n",
       "    <tr>\n",
       "      <th>0</th>\n",
       "      <td>normal</td>\n",
       "      <td></td>\n",
       "      <td></td>\n",
       "      <td></td>\n",
       "      <td></td>\n",
       "      <td></td>\n",
       "    </tr>\n",
       "    <tr>\n",
       "      <th>1</th>\n",
       "      <td>normal</td>\n",
       "      <td></td>\n",
       "      <td></td>\n",
       "      <td></td>\n",
       "      <td></td>\n",
       "      <td></td>\n",
       "    </tr>\n",
       "    <tr>\n",
       "      <th>2</th>\n",
       "      <td>normal</td>\n",
       "      <td></td>\n",
       "      <td></td>\n",
       "      <td></td>\n",
       "      <td></td>\n",
       "      <td></td>\n",
       "    </tr>\n",
       "    <tr>\n",
       "      <th>3</th>\n",
       "      <td>normal</td>\n",
       "      <td></td>\n",
       "      <td></td>\n",
       "      <td></td>\n",
       "      <td></td>\n",
       "      <td></td>\n",
       "    </tr>\n",
       "    <tr>\n",
       "      <th>4</th>\n",
       "      <td>normal</td>\n",
       "      <td></td>\n",
       "      <td></td>\n",
       "      <td></td>\n",
       "      <td></td>\n",
       "      <td></td>\n",
       "    </tr>\n",
       "    <tr>\n",
       "      <th>...</th>\n",
       "      <td>...</td>\n",
       "      <td>...</td>\n",
       "      <td>...</td>\n",
       "      <td>...</td>\n",
       "      <td>...</td>\n",
       "      <td>...</td>\n",
       "    </tr>\n",
       "    <tr>\n",
       "      <th>159</th>\n",
       "      <td>collision_in_tool</td>\n",
       "      <td></td>\n",
       "      <td></td>\n",
       "      <td></td>\n",
       "      <td></td>\n",
       "      <td></td>\n",
       "    </tr>\n",
       "    <tr>\n",
       "      <th>160</th>\n",
       "      <td>collision_in_tool</td>\n",
       "      <td></td>\n",
       "      <td></td>\n",
       "      <td></td>\n",
       "      <td></td>\n",
       "      <td></td>\n",
       "    </tr>\n",
       "    <tr>\n",
       "      <th>161</th>\n",
       "      <td>collision_in_tool</td>\n",
       "      <td></td>\n",
       "      <td></td>\n",
       "      <td></td>\n",
       "      <td></td>\n",
       "      <td></td>\n",
       "    </tr>\n",
       "    <tr>\n",
       "      <th>162</th>\n",
       "      <td>collision_in_tool</td>\n",
       "      <td></td>\n",
       "      <td></td>\n",
       "      <td></td>\n",
       "      <td></td>\n",
       "      <td></td>\n",
       "    </tr>\n",
       "    <tr>\n",
       "      <th>163</th>\n",
       "      <td>collision_in_tool</td>\n",
       "      <td></td>\n",
       "      <td></td>\n",
       "      <td></td>\n",
       "      <td></td>\n",
       "      <td></td>\n",
       "    </tr>\n",
       "  </tbody>\n",
       "</table>\n",
       "<p>164 rows × 6 columns</p>\n",
       "</div>"
      ],
      "text/plain": [
       "              category 1  2  3  4  5 \n",
       "0               normal               \n",
       "1               normal               \n",
       "2               normal               \n",
       "3               normal               \n",
       "4               normal               \n",
       "..                 ... .. .. .. .. ..\n",
       "159  collision_in_tool               \n",
       "160  collision_in_tool               \n",
       "161  collision_in_tool               \n",
       "162  collision_in_tool               \n",
       "163  collision_in_tool               \n",
       "\n",
       "[164 rows x 6 columns]"
      ]
     },
     "metadata": {},
     "output_type": "display_data"
    },
    {
     "ename": "KeyError",
     "evalue": "'label'",
     "output_type": "error",
     "traceback": [
      "\u001b[1;31m---------------------------------------------------------------------------\u001b[0m",
      "\u001b[1;31mKeyError\u001b[0m                                  Traceback (most recent call last)",
      "File \u001b[1;32md:\\Programas\\Python\\Lib\\site-packages\\pandas\\core\\indexes\\base.py:3802\u001b[0m, in \u001b[0;36mIndex.get_loc\u001b[1;34m(self, key, method, tolerance)\u001b[0m\n\u001b[0;32m   3801\u001b[0m \u001b[39mtry\u001b[39;00m:\n\u001b[1;32m-> 3802\u001b[0m     \u001b[39mreturn\u001b[39;00m \u001b[39mself\u001b[39;49m\u001b[39m.\u001b[39;49m_engine\u001b[39m.\u001b[39;49mget_loc(casted_key)\n\u001b[0;32m   3803\u001b[0m \u001b[39mexcept\u001b[39;00m \u001b[39mKeyError\u001b[39;00m \u001b[39mas\u001b[39;00m err:\n",
      "File \u001b[1;32md:\\Programas\\Python\\Lib\\site-packages\\pandas\\_libs\\index.pyx:138\u001b[0m, in \u001b[0;36mpandas._libs.index.IndexEngine.get_loc\u001b[1;34m()\u001b[0m\n",
      "File \u001b[1;32md:\\Programas\\Python\\Lib\\site-packages\\pandas\\_libs\\index.pyx:165\u001b[0m, in \u001b[0;36mpandas._libs.index.IndexEngine.get_loc\u001b[1;34m()\u001b[0m\n",
      "File \u001b[1;32mpandas\\_libs\\hashtable_class_helper.pxi:5745\u001b[0m, in \u001b[0;36mpandas._libs.hashtable.PyObjectHashTable.get_item\u001b[1;34m()\u001b[0m\n",
      "File \u001b[1;32mpandas\\_libs\\hashtable_class_helper.pxi:5753\u001b[0m, in \u001b[0;36mpandas._libs.hashtable.PyObjectHashTable.get_item\u001b[1;34m()\u001b[0m\n",
      "\u001b[1;31mKeyError\u001b[0m: 'label'",
      "\nThe above exception was the direct cause of the following exception:\n",
      "\u001b[1;31mKeyError\u001b[0m                                  Traceback (most recent call last)",
      "Cell \u001b[1;32mIn[13], line 11\u001b[0m\n\u001b[0;32m      9\u001b[0m cat \u001b[39m=\u001b[39m cat\u001b[39m.\u001b[39mreplace({\u001b[39m'\u001b[39m\u001b[39mlabel\u001b[39m\u001b[39m'\u001b[39m:categorias})\n\u001b[0;32m     10\u001b[0m display(cat)\n\u001b[1;32m---> 11\u001b[0m cat[[\u001b[39m'\u001b[39m\u001b[39m1\u001b[39m\u001b[39m'\u001b[39m, \u001b[39m'\u001b[39m\u001b[39m2\u001b[39m\u001b[39m'\u001b[39m, \u001b[39m'\u001b[39m\u001b[39m3\u001b[39m\u001b[39m'\u001b[39m, \u001b[39m'\u001b[39m\u001b[39m4\u001b[39m\u001b[39m'\u001b[39m, \u001b[39m'\u001b[39m\u001b[39m5\u001b[39m\u001b[39m'\u001b[39m]] \u001b[39m=\u001b[39m cat[\u001b[39m'\u001b[39;49m\u001b[39mlabel\u001b[39;49m\u001b[39m'\u001b[39;49m]\u001b[39m.\u001b[39mstr\u001b[39m.\u001b[39msplit(\u001b[39m'\u001b[39m\u001b[39m \u001b[39m\u001b[39m'\u001b[39m, \u001b[39m4\u001b[39m, expand\u001b[39m=\u001b[39m \u001b[39mTrue\u001b[39;00m)\n\u001b[0;32m     12\u001b[0m cat \u001b[39m=\u001b[39m cat[[\u001b[39m'\u001b[39m\u001b[39m1\u001b[39m\u001b[39m'\u001b[39m, \u001b[39m'\u001b[39m\u001b[39m2\u001b[39m\u001b[39m'\u001b[39m, \u001b[39m'\u001b[39m\u001b[39m3\u001b[39m\u001b[39m'\u001b[39m, \u001b[39m'\u001b[39m\u001b[39m4\u001b[39m\u001b[39m'\u001b[39m, \u001b[39m'\u001b[39m\u001b[39m5\u001b[39m\u001b[39m'\u001b[39m]]\u001b[39m.\u001b[39mastype(\u001b[39mint\u001b[39m)\n",
      "File \u001b[1;32md:\\Programas\\Python\\Lib\\site-packages\\pandas\\core\\frame.py:3807\u001b[0m, in \u001b[0;36mDataFrame.__getitem__\u001b[1;34m(self, key)\u001b[0m\n\u001b[0;32m   3805\u001b[0m \u001b[39mif\u001b[39;00m \u001b[39mself\u001b[39m\u001b[39m.\u001b[39mcolumns\u001b[39m.\u001b[39mnlevels \u001b[39m>\u001b[39m \u001b[39m1\u001b[39m:\n\u001b[0;32m   3806\u001b[0m     \u001b[39mreturn\u001b[39;00m \u001b[39mself\u001b[39m\u001b[39m.\u001b[39m_getitem_multilevel(key)\n\u001b[1;32m-> 3807\u001b[0m indexer \u001b[39m=\u001b[39m \u001b[39mself\u001b[39;49m\u001b[39m.\u001b[39;49mcolumns\u001b[39m.\u001b[39;49mget_loc(key)\n\u001b[0;32m   3808\u001b[0m \u001b[39mif\u001b[39;00m is_integer(indexer):\n\u001b[0;32m   3809\u001b[0m     indexer \u001b[39m=\u001b[39m [indexer]\n",
      "File \u001b[1;32md:\\Programas\\Python\\Lib\\site-packages\\pandas\\core\\indexes\\base.py:3804\u001b[0m, in \u001b[0;36mIndex.get_loc\u001b[1;34m(self, key, method, tolerance)\u001b[0m\n\u001b[0;32m   3802\u001b[0m     \u001b[39mreturn\u001b[39;00m \u001b[39mself\u001b[39m\u001b[39m.\u001b[39m_engine\u001b[39m.\u001b[39mget_loc(casted_key)\n\u001b[0;32m   3803\u001b[0m \u001b[39mexcept\u001b[39;00m \u001b[39mKeyError\u001b[39;00m \u001b[39mas\u001b[39;00m err:\n\u001b[1;32m-> 3804\u001b[0m     \u001b[39mraise\u001b[39;00m \u001b[39mKeyError\u001b[39;00m(key) \u001b[39mfrom\u001b[39;00m \u001b[39merr\u001b[39;00m\n\u001b[0;32m   3805\u001b[0m \u001b[39mexcept\u001b[39;00m \u001b[39mTypeError\u001b[39;00m:\n\u001b[0;32m   3806\u001b[0m     \u001b[39m# If we have a listlike key, _check_indexing_error will raise\u001b[39;00m\n\u001b[0;32m   3807\u001b[0m     \u001b[39m#  InvalidIndexError. Otherwise we fall through and re-raise\u001b[39;00m\n\u001b[0;32m   3808\u001b[0m     \u001b[39m#  the TypeError.\u001b[39;00m\n\u001b[0;32m   3809\u001b[0m     \u001b[39mself\u001b[39m\u001b[39m.\u001b[39m_check_indexing_error(key)\n",
      "\u001b[1;31mKeyError\u001b[0m: 'label'"
     ]
    }
   ],
   "source": [
    "cat = pd.DataFrame(label, columns=['category', '1', '2', '3', '4', '5'])\n",
    "categorias = {\n",
    "    'normal':'1 0 0 0 0',\n",
    "    'collision_in_tool':'0 1 0 0 0',\n",
    "    'collision_in_part':'0 0 1 0 0',\n",
    "    'bottom_collision':'0 0 0 1 0',\n",
    "    'bottom_obstruction':'0 0 0 0 1'}\n",
    "\n",
    "cat = cat.replace({'label':categorias})\n",
    "\n",
    "display(cat)\n",
    "cat[['1', '2', '3', '4', '5']] = cat['label'].str.split(' ', 4, expand= True)\n",
    "cat = cat[['1', '2', '3', '4', '5']].astype(int)\n"
   ]
  }
 ],
 "metadata": {
  "kernelspec": {
   "display_name": "Python 3",
   "language": "python",
   "name": "python3"
  },
  "language_info": {
   "codemirror_mode": {
    "name": "ipython",
    "version": 3
   },
   "file_extension": ".py",
   "mimetype": "text/x-python",
   "name": "python",
   "nbconvert_exporter": "python",
   "pygments_lexer": "ipython3",
   "version": "3.11.2"
  },
  "orig_nbformat": 4
 },
 "nbformat": 4,
 "nbformat_minor": 2
}
